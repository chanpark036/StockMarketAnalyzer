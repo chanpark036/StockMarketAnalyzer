{
 "cells": [
  {
   "cell_type": "code",
   "execution_count": 1,
   "id": "9288592d",
   "metadata": {},
   "outputs": [],
   "source": [
    "import talib as ta\n",
    "import joblib\n",
    "import pandas as pd\n",
    "import seaborn as sns\n",
    "import datetime as datetime"
   ]
  },
  {
   "cell_type": "code",
   "execution_count": 2,
   "id": "ea5f9e25",
   "metadata": {},
   "outputs": [],
   "source": [
    "pd.core.common.is_list_like = pd.api.types.is_list_like\n",
    "pd.set_option('expand_frame_repr', False)  "
   ]
  },
  {
   "cell_type": "code",
   "execution_count": 3,
   "id": "2355cb48",
   "metadata": {},
   "outputs": [],
   "source": [
    "start_time = datetime.datetime(1980, 1, 1)\n",
    "end_time = datetime.datetime.now().date().isoformat() #today"
   ]
  },
  {
   "cell_type": "code",
   "execution_count": 4,
   "id": "f67a2ed4",
   "metadata": {},
   "outputs": [],
   "source": [
    "import pandas_datareader.data as web\n",
    "import numpy as np\n",
    "import matplotlib.pyplot as plt\n",
    "import time\n",
    "\n",
    "#newest yahoo API \n",
    "import yfinance as yahoo_finance"
   ]
  },
  {
   "cell_type": "code",
   "execution_count": 5,
   "id": "a3044194",
   "metadata": {},
   "outputs": [],
   "source": [
    "def get_data(ticker):\n",
    "    # daily historical data\n",
    "    connected = False\n",
    "    while not connected:\n",
    "        try:\n",
    "            df = web.get_data_yahoo(ticker, start=start_time, end=end_time)\n",
    "            connected = True\n",
    "            print('connected to yahoo')\n",
    "        except Exception as e:\n",
    "            print(\"type error: \" + str(e))\n",
    "            time.sleep( 5 )\n",
    "            pass   \n",
    "\n",
    "    df = df.reset_index()\n",
    "    return df"
   ]
  },
  {
   "cell_type": "code",
   "execution_count": 6,
   "id": "15e5b95f",
   "metadata": {},
   "outputs": [],
   "source": [
    "def compute_technical_indicators(df):\n",
    "    \n",
    "    #exponential moving average from talib\n",
    "    df['EMA5'] = ta.EMA(df['Adj Close'].values, timeperiod=5)\n",
    "    df['EMA10'] = ta.EMA(df['Adj Close'].values, timeperiod=10)\n",
    "    df['EMA15'] = ta.EMA(df['Adj Close'].values, timeperiod=15)\n",
    "    df['EMA20'] = ta.EMA(df['Adj Close'].values, timeperiod=10)\n",
    "    df['EMA30'] = ta.EMA(df['Adj Close'].values, timeperiod=30)\n",
    "    df['EMA40'] = ta.EMA(df['Adj Close'].values, timeperiod=40)\n",
    "    df['EMA50'] = ta.EMA(df['Adj Close'].values, timeperiod=50)\n",
    "\n",
    "    df['EMA60'] = ta.EMA(df['Adj Close'].values, timeperiod=60)\n",
    "    df['EMA70'] = ta.EMA(df['Adj Close'].values, timeperiod=70)\n",
    "    df['EMA80'] = ta.EMA(df['Adj Close'].values, timeperiod=80)\n",
    "    df['EMA90'] = ta.EMA(df['Adj Close'].values, timeperiod=90)\n",
    "    \n",
    "    df['EMA100'] = ta.EMA(df['Adj Close'].values, timeperiod=100)\n",
    "    df['EMA150'] = ta.EMA(df['Adj Close'].values, timeperiod=150)\n",
    "    df['EMA200'] = ta.EMA(df['Adj Close'].values, timeperiod=200)\n",
    "\n",
    "    #bbands from talib\n",
    "    df['upperBB'], df['middleBB'], df['lowerBB'] = ta.BBANDS(df['Adj Close'].values, timeperiod=20, nbdevup=2, nbdevdn=2, matype=0)\n",
    "\n",
    "    #parabolic sar\n",
    "    df['SAR'] = ta.SAR(df['High'].values, df['Low'].values, acceleration=0.02, maximum=0.2)\n",
    "\n",
    "    # normalized relative strength indicator\n",
    "    df['RSI'] = ta.RSI(df['Adj Close'].values, timeperiod=14)\n",
    "    df['normRSI'] = ta.RSI(df['Adj Close'].values, timeperiod=14) / 100.0\n",
    "    \n",
    "    df.tail()\n",
    "    return df"
   ]
  },
  {
   "cell_type": "code",
   "execution_count": 7,
   "id": "78d8684e",
   "metadata": {},
   "outputs": [],
   "source": [
    "def compute_features(df):\n",
    "    # computes features\n",
    "    df['aboveEMA5'] = np.where(df['Adj Close'] > df['EMA5'], 1, 0)\n",
    "    df['aboveEMA10'] = np.where(df['Adj Close'] > df['EMA10'], 1, 0)\n",
    "    df['aboveEMA15'] = np.where(df['Adj Close'] > df['EMA15'], 1, 0)\n",
    "    df['aboveEMA20'] = np.where(df['Adj Close'] > df['EMA20'], 1, 0)\n",
    "    df['aboveEMA30'] = np.where(df['Adj Close'] > df['EMA30'], 1, 0)\n",
    "    df['aboveEMA40'] = np.where(df['Adj Close'] > df['EMA40'], 1, 0)\n",
    "    \n",
    "    df['aboveEMA50'] = np.where(df['Adj Close'] > df['EMA50'], 1, 0)\n",
    "    df['aboveEMA60'] = np.where(df['Adj Close'] > df['EMA60'], 1, 0)\n",
    "    df['aboveEMA70'] = np.where(df['Adj Close'] > df['EMA70'], 1, 0)\n",
    "    df['aboveEMA80'] = np.where(df['Adj Close'] > df['EMA80'], 1, 0)\n",
    "    df['aboveEMA90'] = np.where(df['Adj Close'] > df['EMA90'], 1, 0)\n",
    "    \n",
    "    df['aboveEMA100'] = np.where(df['Adj Close'] > df['EMA100'], 1, 0)\n",
    "    df['aboveEMA150'] = np.where(df['Adj Close'] > df['EMA150'], 1, 0)\n",
    "    df['aboveEMA200'] = np.where(df['Adj Close'] > df['EMA200'], 1, 0)\n",
    "\n",
    "    df['aboveUpperBB'] = np.where(df['Adj Close'] > df['upperBB'], 1, 0)\n",
    "    df['belowLowerBB'] = np.where(df['Adj Close'] < df['lowerBB'], 1, 0)\n",
    "    \n",
    "    df['aboveSAR'] = np.where(df['Adj Close'] > df['SAR'], 1, 0)\n",
    "   \n",
    "    df['oversoldRSI'] = np.where(df['RSI'] < 30, 1, 0)\n",
    "    df['overboughtRSI'] = np.where(df['RSI'] > 70, 1, 0)\n",
    "\n",
    "\n",
    "    # cleanup NaN values\n",
    "    df=df.fillna(0).copy()\n",
    "    \n",
    "    df.tail()\n",
    "\n",
    "    return df"
   ]
  },
  {
   "cell_type": "code",
   "execution_count": 8,
   "id": "e18202c3",
   "metadata": {},
   "outputs": [],
   "source": [
    "def plot_train_data(df):\n",
    "    # plot price\n",
    "    plt.figure(figsize=(15,2.5))\n",
    "    plt.title('Stock data ' + str(ticker))\n",
    "    plt.plot(df['Date'], df['Adj Close'])\n",
    "    #plt.title('Price chart (Adj Close) ' + str(ticker))\n",
    "    plt.show()\n",
    "    return None"
   ]
  },
  {
   "cell_type": "code",
   "execution_count": 43,
   "id": "13938802",
   "metadata": {},
   "outputs": [],
   "source": [
    "def define_target_condition(df):\n",
    " \n",
    "    # price higher later - bad predictive results\n",
    "    #df['target_cls'] = np.where(df['Adj Close'].shift(-34) > df['Adj Close'], 1, 0)    \n",
    "    \n",
    "    # price above trend multiple days later\n",
    "    df['target_cls'] = np.where(df['Adj Close'].shift(-34) > df['EMA150'].shift(-34), 1, 0)\n",
    "\n",
    "    # important, remove NaN values\n",
    "    df=df.fillna(0).copy()\n",
    "    \n",
    "    df.tail()\n",
    "    \n",
    "    return df"
   ]
  },
  {
   "cell_type": "code",
   "execution_count": 10,
   "id": "116c7f7b",
   "metadata": {},
   "outputs": [],
   "source": [
    "tickers = ['F', 'IBM', 'GE', 'AAPL', 'ADM',\n",
    "           'XOM', 'GM','MMM','KO','PEP','SO','GS']           \n",
    "#           'HAS','PEAK','HPE','HLT','HD','HON','HRL','HST','HPQ','HUM','ILMN', \n",
    "#           'INTC','ICE','INTU','ISRG','IVZ','IRM','JNJ','JPM','JNPR','K','KMB', \n",
    "#           'KIM', 'KMI','KSS','KHC', 'KR',  'LB', 'LEG', 'LIN', 'LMT','LOW',\n",
    "#           'MAR', 'MA','MCD','MDT', 'MRK', 'MET', 'MGM', 'MU','MSFT', 'MAA', \n",
    "#           'MNST', 'MCO','MS', 'MSI',\n",
    "#           'MMM', 'ABT','ACN','ATVI','ADBE','AMD','A','AKAM','ARE','GOOG','AMZN','AAL']"
   ]
  },
  {
   "cell_type": "code",
   "execution_count": 11,
   "id": "d827b606",
   "metadata": {},
   "outputs": [
    {
     "name": "stdout",
     "output_type": "stream",
     "text": [
      "connected to yahoo\n",
      "connected to yahoo\n"
     ]
    },
    {
     "name": "stderr",
     "output_type": "stream",
     "text": [
      "/var/folders/4v/79hzqsnj155_2r8_zvw_2cn80000gn/T/ipykernel_23268/1740819259.py:14: FutureWarning: The frame.append method is deprecated and will be removed from pandas in a future version. Use pandas.concat instead.\n",
      "  df = df.append(t_df, ignore_index=True)\n"
     ]
    },
    {
     "name": "stdout",
     "output_type": "stream",
     "text": [
      "connected to yahoo\n"
     ]
    },
    {
     "name": "stderr",
     "output_type": "stream",
     "text": [
      "/var/folders/4v/79hzqsnj155_2r8_zvw_2cn80000gn/T/ipykernel_23268/1740819259.py:14: FutureWarning: The frame.append method is deprecated and will be removed from pandas in a future version. Use pandas.concat instead.\n",
      "  df = df.append(t_df, ignore_index=True)\n"
     ]
    },
    {
     "name": "stdout",
     "output_type": "stream",
     "text": [
      "connected to yahoo\n"
     ]
    },
    {
     "name": "stderr",
     "output_type": "stream",
     "text": [
      "/var/folders/4v/79hzqsnj155_2r8_zvw_2cn80000gn/T/ipykernel_23268/1740819259.py:14: FutureWarning: The frame.append method is deprecated and will be removed from pandas in a future version. Use pandas.concat instead.\n",
      "  df = df.append(t_df, ignore_index=True)\n"
     ]
    },
    {
     "name": "stdout",
     "output_type": "stream",
     "text": [
      "connected to yahoo\n"
     ]
    },
    {
     "name": "stderr",
     "output_type": "stream",
     "text": [
      "/var/folders/4v/79hzqsnj155_2r8_zvw_2cn80000gn/T/ipykernel_23268/1740819259.py:14: FutureWarning: The frame.append method is deprecated and will be removed from pandas in a future version. Use pandas.concat instead.\n",
      "  df = df.append(t_df, ignore_index=True)\n"
     ]
    },
    {
     "name": "stdout",
     "output_type": "stream",
     "text": [
      "connected to yahoo\n"
     ]
    },
    {
     "name": "stderr",
     "output_type": "stream",
     "text": [
      "/var/folders/4v/79hzqsnj155_2r8_zvw_2cn80000gn/T/ipykernel_23268/1740819259.py:14: FutureWarning: The frame.append method is deprecated and will be removed from pandas in a future version. Use pandas.concat instead.\n",
      "  df = df.append(t_df, ignore_index=True)\n"
     ]
    },
    {
     "name": "stdout",
     "output_type": "stream",
     "text": [
      "connected to yahoo\n"
     ]
    },
    {
     "name": "stderr",
     "output_type": "stream",
     "text": [
      "/var/folders/4v/79hzqsnj155_2r8_zvw_2cn80000gn/T/ipykernel_23268/1740819259.py:14: FutureWarning: The frame.append method is deprecated and will be removed from pandas in a future version. Use pandas.concat instead.\n",
      "  df = df.append(t_df, ignore_index=True)\n"
     ]
    },
    {
     "name": "stdout",
     "output_type": "stream",
     "text": [
      "connected to yahoo\n"
     ]
    },
    {
     "name": "stderr",
     "output_type": "stream",
     "text": [
      "/var/folders/4v/79hzqsnj155_2r8_zvw_2cn80000gn/T/ipykernel_23268/1740819259.py:14: FutureWarning: The frame.append method is deprecated and will be removed from pandas in a future version. Use pandas.concat instead.\n",
      "  df = df.append(t_df, ignore_index=True)\n"
     ]
    },
    {
     "name": "stdout",
     "output_type": "stream",
     "text": [
      "connected to yahoo\n"
     ]
    },
    {
     "name": "stderr",
     "output_type": "stream",
     "text": [
      "/var/folders/4v/79hzqsnj155_2r8_zvw_2cn80000gn/T/ipykernel_23268/1740819259.py:14: FutureWarning: The frame.append method is deprecated and will be removed from pandas in a future version. Use pandas.concat instead.\n",
      "  df = df.append(t_df, ignore_index=True)\n"
     ]
    },
    {
     "name": "stdout",
     "output_type": "stream",
     "text": [
      "connected to yahoo\n"
     ]
    },
    {
     "name": "stderr",
     "output_type": "stream",
     "text": [
      "/var/folders/4v/79hzqsnj155_2r8_zvw_2cn80000gn/T/ipykernel_23268/1740819259.py:14: FutureWarning: The frame.append method is deprecated and will be removed from pandas in a future version. Use pandas.concat instead.\n",
      "  df = df.append(t_df, ignore_index=True)\n"
     ]
    },
    {
     "name": "stdout",
     "output_type": "stream",
     "text": [
      "connected to yahoo\n"
     ]
    },
    {
     "name": "stderr",
     "output_type": "stream",
     "text": [
      "/var/folders/4v/79hzqsnj155_2r8_zvw_2cn80000gn/T/ipykernel_23268/1740819259.py:14: FutureWarning: The frame.append method is deprecated and will be removed from pandas in a future version. Use pandas.concat instead.\n",
      "  df = df.append(t_df, ignore_index=True)\n"
     ]
    },
    {
     "name": "stdout",
     "output_type": "stream",
     "text": [
      "connected to yahoo\n"
     ]
    },
    {
     "name": "stderr",
     "output_type": "stream",
     "text": [
      "/var/folders/4v/79hzqsnj155_2r8_zvw_2cn80000gn/T/ipykernel_23268/1740819259.py:14: FutureWarning: The frame.append method is deprecated and will be removed from pandas in a future version. Use pandas.concat instead.\n",
      "  df = df.append(t_df, ignore_index=True)\n"
     ]
    },
    {
     "name": "stdout",
     "output_type": "stream",
     "text": [
      "connected to yahoo\n"
     ]
    },
    {
     "name": "stderr",
     "output_type": "stream",
     "text": [
      "/var/folders/4v/79hzqsnj155_2r8_zvw_2cn80000gn/T/ipykernel_23268/1740819259.py:14: FutureWarning: The frame.append method is deprecated and will be removed from pandas in a future version. Use pandas.concat instead.\n",
      "  df = df.append(t_df, ignore_index=True)\n"
     ]
    }
   ],
   "source": [
    "# parent dataframe to append to\n",
    "ticker = 'SPY'\n",
    "df = get_data(ticker)\n",
    "df = compute_technical_indicators(df)\n",
    "df = compute_features(df)\n",
    "df = define_target_condition(df)\n",
    "\n",
    "for ticker in tickers:\n",
    "    t_df = get_data(ticker)\n",
    "    t_df = compute_technical_indicators(t_df)\n",
    "    t_df = compute_features(t_df)\n",
    "    t_df = define_target_condition(t_df)\n",
    "    \n",
    "    df = df.append(t_df, ignore_index=True)"
   ]
  },
  {
   "cell_type": "code",
   "execution_count": 12,
   "id": "a874c67c",
   "metadata": {},
   "outputs": [],
   "source": [
    "predictors_list = ['aboveSAR','aboveUpperBB','belowLowerBB','normRSI','oversoldRSI','overboughtRSI',\n",
    "                   'aboveEMA5','aboveEMA10','aboveEMA15','aboveEMA20','aboveEMA30','aboveEMA40',\n",
    "                   'aboveEMA50','aboveEMA60','aboveEMA70','aboveEMA80','aboveEMA90','aboveEMA100']"
   ]
  },
  {
   "cell_type": "code",
   "execution_count": 45,
   "id": "feb92ec2",
   "metadata": {},
   "outputs": [],
   "source": [
    "def splitting_and_training(df, predictors_list, test_size=0.3):\n",
    "    # __predictors__\n",
    "\n",
    "\n",
    "    # __features__\n",
    "    X = df[predictors_list].fillna(0).values\n",
    "    #X.tail()\n",
    "\n",
    "    # __targets__\n",
    "    y_cls = df[\"target_cls\"].fillna(0).values\n",
    "    #y_cls.tail(10)\n",
    "\n",
    "    # __train test split__\n",
    "    from sklearn.model_selection import train_test_split\n",
    "    y=y_cls\n",
    "    X_cls_train, X_cls_test, y_cls_train, y_cls_test = train_test_split(X, y, test_size=test_size, random_state=42, stratify=y)\n",
    "\n",
    "    print (X_cls_train.shape, y_cls_train.shape)\n",
    "    print (X_cls_test.shape, y_cls_test.shape)\n",
    "\n",
    "    return X_cls_train, X_cls_test, y_cls_train, y_cls_test"
   ]
  },
  {
   "cell_type": "code",
   "execution_count": 14,
   "id": "76a6427c",
   "metadata": {},
   "outputs": [],
   "source": [
    "import torch\n",
    "from torch import nn\n",
    "from torch.autograd import Variable\n",
    "from sklearn.datasets import load_iris\n",
    "from sklearn.model_selection import train_test_split\n",
    "from sklearn.metrics import accuracy_score\n",
    "import tensorflow as tf\n",
    "import torch.nn.functional as F"
   ]
  },
  {
   "cell_type": "code",
   "execution_count": 15,
   "id": "9b36b56d",
   "metadata": {},
   "outputs": [],
   "source": [
    "class Model(nn.Module):\n",
    "    def __init__(self, input_dim):\n",
    "        super(Model, self).__init__()\n",
    "        self.layer1 = nn.Linear(input_dim,100)\n",
    "        self.layer2 = nn.Linear(100, 30)\n",
    "        self.layer3 = nn.Linear(30, 2)\n",
    "        self.drop = nn.Dropout(0.2)\n",
    "        \n",
    "    def forward(self, x):\n",
    "        x = F.relu(self.layer1(x))\n",
    "        x = self.drop(x)\n",
    "        x = F.relu(self.layer2(x))\n",
    "        x = self.drop(x)\n",
    "        x = F.softmax(self.layer3(x)) # To check with the loss function\n",
    "        return x"
   ]
  },
  {
   "cell_type": "code",
   "execution_count": 16,
   "id": "d7bc99ff-9df1-4d0a-bb94-df683c93bad6",
   "metadata": {},
   "outputs": [
    {
     "name": "stdout",
     "output_type": "stream",
     "text": [
      "(86103, 18) (86103,)\n",
      "(36902, 18) (36902,)\n"
     ]
    }
   ],
   "source": [
    "features_train,features_test, labels_train, labels_test = splitting_and_training(df, predictors_list)"
   ]
  },
  {
   "cell_type": "code",
   "execution_count": 17,
   "id": "1b7efa2c-bde7-4390-98b5-d1a58a6a696c",
   "metadata": {},
   "outputs": [
    {
     "data": {
      "text/plain": [
       "array([[0.        , 0.        , 0.        , 0.54741633, 0.        ,\n",
       "        0.        , 0.        , 0.        , 1.        , 0.        ,\n",
       "        1.        , 1.        , 1.        , 1.        , 1.        ,\n",
       "        1.        , 1.        , 1.        ],\n",
       "       [0.        , 0.        , 0.        , 0.57093774, 0.        ,\n",
       "        0.        , 0.        , 1.        , 1.        , 1.        ,\n",
       "        1.        , 1.        , 1.        , 1.        , 1.        ,\n",
       "        1.        , 1.        , 1.        ],\n",
       "       [0.        , 0.        , 0.        , 0.67301448, 0.        ,\n",
       "        0.        , 1.        , 1.        , 1.        , 1.        ,\n",
       "        1.        , 1.        , 1.        , 1.        , 1.        ,\n",
       "        1.        , 1.        , 1.        ]])"
      ]
     },
     "execution_count": 17,
     "metadata": {},
     "output_type": "execute_result"
    }
   ],
   "source": [
    "features_train[:3]"
   ]
  },
  {
   "cell_type": "code",
   "execution_count": 18,
   "id": "e8c3a9d8-93ce-4006-9afd-362a9c66f2bd",
   "metadata": {},
   "outputs": [
    {
     "data": {
      "text/plain": [
       "array([1, 0, 1])"
      ]
     },
     "execution_count": 18,
     "metadata": {},
     "output_type": "execute_result"
    }
   ],
   "source": [
    "labels_train[:3]"
   ]
  },
  {
   "cell_type": "code",
   "execution_count": 19,
   "id": "f938b8ab-4fc4-447f-a7d1-f4571f746fe4",
   "metadata": {},
   "outputs": [],
   "source": [
    "# make data tensors\n",
    "features_train = Variable(torch.Tensor(features_train).float())\n",
    "features_test  = Variable(torch.Tensor(features_test).float())\n",
    "labels_train   = Variable(torch.Tensor(labels_train).long())\n",
    "labels_test    = Variable(torch.Tensor(labels_test).long())\n",
    "\n",
    "x_train = features_train\n",
    "y_train = labels_train"
   ]
  },
  {
   "cell_type": "code",
   "execution_count": 20,
   "id": "9a6ef7aa-c9d2-4baf-a12f-bb1fe72cb631",
   "metadata": {},
   "outputs": [],
   "source": [
    "# Training\n",
    "model = Model(features_train.shape[1])\n",
    "optimizer = torch.optim.Adam(model.parameters(), lr=0.005)\n",
    "loss_fn = nn.CrossEntropyLoss()\n",
    "epochs = 150\n",
    "\n",
    "def print_(loss):\n",
    "    print (\"The loss calculated: \", loss)"
   ]
  },
  {
   "cell_type": "code",
   "execution_count": 21,
   "id": "ad4b1fd2-2829-40ce-85e6-1b44a2e190d6",
   "metadata": {},
   "outputs": [
    {
     "name": "stdout",
     "output_type": "stream",
     "text": [
      "Epoch # 1\n",
      "The loss calculated:  0.6957269906997681\n",
      "Epoch # 2\n",
      "The loss calculated:  0.6654825806617737\n"
     ]
    },
    {
     "name": "stderr",
     "output_type": "stream",
     "text": [
      "/var/folders/4v/79hzqsnj155_2r8_zvw_2cn80000gn/T/ipykernel_23268/4287727945.py:14: UserWarning: Implicit dimension choice for softmax has been deprecated. Change the call to include dim=X as an argument.\n",
      "  x = F.softmax(self.layer3(x)) # To check with the loss function\n"
     ]
    },
    {
     "name": "stdout",
     "output_type": "stream",
     "text": [
      "Epoch # 3\n",
      "The loss calculated:  0.6406000256538391\n",
      "Epoch # 4\n",
      "The loss calculated:  0.6204590797424316\n",
      "Epoch # 5\n",
      "The loss calculated:  0.6047304272651672\n",
      "Epoch # 6\n",
      "The loss calculated:  0.5937396287918091\n",
      "Epoch # 7\n",
      "The loss calculated:  0.5878052711486816\n",
      "Epoch # 8\n",
      "The loss calculated:  0.58531653881073\n",
      "Epoch # 9\n",
      "The loss calculated:  0.5837362408638\n",
      "Epoch # 10\n",
      "The loss calculated:  0.5825903415679932\n",
      "Epoch # 11\n",
      "The loss calculated:  0.5805859565734863\n",
      "Epoch # 12\n",
      "The loss calculated:  0.5779961347579956\n",
      "Epoch # 13\n",
      "The loss calculated:  0.5747324228286743\n",
      "Epoch # 14\n",
      "The loss calculated:  0.5713788866996765\n",
      "Epoch # 15\n",
      "The loss calculated:  0.5683207511901855\n",
      "Epoch # 16\n",
      "The loss calculated:  0.5659242868423462\n",
      "Epoch # 17\n",
      "The loss calculated:  0.5647310018539429\n",
      "Epoch # 18\n",
      "The loss calculated:  0.5640944242477417\n",
      "Epoch # 19\n",
      "The loss calculated:  0.5637778639793396\n",
      "Epoch # 20\n",
      "The loss calculated:  0.5637022256851196\n",
      "Epoch # 21\n",
      "The loss calculated:  0.5635647177696228\n",
      "Epoch # 22\n",
      "The loss calculated:  0.563992977142334\n",
      "Epoch # 23\n",
      "The loss calculated:  0.5636993050575256\n",
      "Epoch # 24\n",
      "The loss calculated:  0.5633967518806458\n",
      "Epoch # 25\n",
      "The loss calculated:  0.5630999207496643\n",
      "Epoch # 26\n",
      "The loss calculated:  0.5630040168762207\n",
      "Epoch # 27\n",
      "The loss calculated:  0.5627627372741699\n",
      "Epoch # 28\n",
      "The loss calculated:  0.5623694062232971\n",
      "Epoch # 29\n",
      "The loss calculated:  0.5623741149902344\n",
      "Epoch # 30\n",
      "The loss calculated:  0.5621182918548584\n",
      "Epoch # 31\n",
      "The loss calculated:  0.561435341835022\n",
      "Epoch # 32\n",
      "The loss calculated:  0.5613813400268555\n",
      "Epoch # 33\n",
      "The loss calculated:  0.5609988570213318\n",
      "Epoch # 34\n",
      "The loss calculated:  0.560870349407196\n",
      "Epoch # 35\n",
      "The loss calculated:  0.5608758926391602\n",
      "Epoch # 36\n",
      "The loss calculated:  0.5607227087020874\n",
      "Epoch # 37\n",
      "The loss calculated:  0.5606198906898499\n",
      "Epoch # 38\n",
      "The loss calculated:  0.5603331923484802\n",
      "Epoch # 39\n",
      "The loss calculated:  0.5601148009300232\n",
      "Epoch # 40\n",
      "The loss calculated:  0.5600431561470032\n",
      "Epoch # 41\n",
      "The loss calculated:  0.559962272644043\n",
      "Epoch # 42\n",
      "The loss calculated:  0.559792697429657\n",
      "Epoch # 43\n",
      "The loss calculated:  0.5595953464508057\n",
      "Epoch # 44\n",
      "The loss calculated:  0.5593132972717285\n",
      "Epoch # 45\n",
      "The loss calculated:  0.5592655539512634\n",
      "Epoch # 46\n",
      "The loss calculated:  0.5592805743217468\n",
      "Epoch # 47\n",
      "The loss calculated:  0.5590850710868835\n",
      "Epoch # 48\n",
      "The loss calculated:  0.5590929388999939\n",
      "Epoch # 49\n",
      "The loss calculated:  0.5590038895606995\n",
      "Epoch # 50\n",
      "The loss calculated:  0.5589835047721863\n",
      "Epoch # 51\n",
      "The loss calculated:  0.5588303804397583\n",
      "Epoch # 52\n",
      "The loss calculated:  0.5585455894470215\n",
      "Epoch # 53\n",
      "The loss calculated:  0.5582217574119568\n",
      "Epoch # 54\n",
      "The loss calculated:  0.5584331154823303\n",
      "Epoch # 55\n",
      "The loss calculated:  0.5583440065383911\n",
      "Epoch # 56\n",
      "The loss calculated:  0.5580109357833862\n",
      "Epoch # 57\n",
      "The loss calculated:  0.5582800507545471\n",
      "Epoch # 58\n",
      "The loss calculated:  0.5579085350036621\n",
      "Epoch # 59\n",
      "The loss calculated:  0.5582839250564575\n",
      "Epoch # 60\n",
      "The loss calculated:  0.5583455562591553\n",
      "Epoch # 61\n",
      "The loss calculated:  0.557838499546051\n",
      "Epoch # 62\n",
      "The loss calculated:  0.5580866932868958\n",
      "Epoch # 63\n",
      "The loss calculated:  0.5577616095542908\n",
      "Epoch # 64\n",
      "The loss calculated:  0.557985246181488\n",
      "Epoch # 65\n",
      "The loss calculated:  0.5579723715782166\n",
      "Epoch # 66\n",
      "The loss calculated:  0.5577868223190308\n",
      "Epoch # 67\n",
      "The loss calculated:  0.5578223466873169\n",
      "Epoch # 68\n",
      "The loss calculated:  0.5578292012214661\n",
      "Epoch # 69\n",
      "The loss calculated:  0.5579854846000671\n",
      "Epoch # 70\n",
      "The loss calculated:  0.5576770901679993\n",
      "Epoch # 71\n",
      "The loss calculated:  0.5577214956283569\n",
      "Epoch # 72\n",
      "The loss calculated:  0.5575513243675232\n",
      "Epoch # 73\n",
      "The loss calculated:  0.5577901601791382\n",
      "Epoch # 74\n",
      "The loss calculated:  0.5576003193855286\n",
      "Epoch # 75\n",
      "The loss calculated:  0.5574721097946167\n",
      "Epoch # 76\n",
      "The loss calculated:  0.5576609373092651\n",
      "Epoch # 77\n",
      "The loss calculated:  0.5575662851333618\n",
      "Epoch # 78\n",
      "The loss calculated:  0.5575406551361084\n",
      "Epoch # 79\n",
      "The loss calculated:  0.5575891137123108\n",
      "Epoch # 80\n",
      "The loss calculated:  0.5577999353408813\n",
      "Epoch # 81\n",
      "The loss calculated:  0.5576147437095642\n",
      "Epoch # 82\n",
      "The loss calculated:  0.5572288036346436\n",
      "Epoch # 83\n",
      "The loss calculated:  0.5574105381965637\n",
      "Epoch # 84\n",
      "The loss calculated:  0.5573166608810425\n",
      "Epoch # 85\n",
      "The loss calculated:  0.5574729442596436\n",
      "Epoch # 86\n",
      "The loss calculated:  0.557634174823761\n",
      "Epoch # 87\n",
      "The loss calculated:  0.5573944449424744\n",
      "Epoch # 88\n",
      "The loss calculated:  0.5575535297393799\n",
      "Epoch # 89\n",
      "The loss calculated:  0.5573627352714539\n",
      "Epoch # 90\n",
      "The loss calculated:  0.5575433373451233\n",
      "Epoch # 91\n",
      "The loss calculated:  0.5573874711990356\n",
      "Epoch # 92\n",
      "The loss calculated:  0.55760258436203\n",
      "Epoch # 93\n",
      "The loss calculated:  0.5572999119758606\n",
      "Epoch # 94\n",
      "The loss calculated:  0.5572664737701416\n",
      "Epoch # 95\n",
      "The loss calculated:  0.5573111772537231\n",
      "Epoch # 96\n",
      "The loss calculated:  0.5572933554649353\n",
      "Epoch # 97\n",
      "The loss calculated:  0.5572666525840759\n",
      "Epoch # 98\n",
      "The loss calculated:  0.5573173761367798\n",
      "Epoch # 99\n",
      "The loss calculated:  0.5574173331260681\n",
      "Epoch # 100\n",
      "The loss calculated:  0.5574055910110474\n",
      "Epoch # 101\n",
      "The loss calculated:  0.5573754906654358\n",
      "Epoch # 102\n",
      "The loss calculated:  0.5571901202201843\n",
      "Epoch # 103\n",
      "The loss calculated:  0.5573288798332214\n",
      "Epoch # 104\n",
      "The loss calculated:  0.5571599006652832\n",
      "Epoch # 105\n",
      "The loss calculated:  0.5570822954177856\n",
      "Epoch # 106\n",
      "The loss calculated:  0.5573775172233582\n",
      "Epoch # 107\n",
      "The loss calculated:  0.557113766670227\n",
      "Epoch # 108\n",
      "The loss calculated:  0.5573203563690186\n",
      "Epoch # 109\n",
      "The loss calculated:  0.5571581721305847\n",
      "Epoch # 110\n",
      "The loss calculated:  0.5573171377182007\n",
      "Epoch # 111\n",
      "The loss calculated:  0.5570233464241028\n",
      "Epoch # 112\n",
      "The loss calculated:  0.5570711493492126\n",
      "Epoch # 113\n",
      "The loss calculated:  0.557262659072876\n",
      "Epoch # 114\n",
      "The loss calculated:  0.5571560263633728\n",
      "Epoch # 115\n",
      "The loss calculated:  0.5571702122688293\n",
      "Epoch # 116\n",
      "The loss calculated:  0.5571117401123047\n",
      "Epoch # 117\n",
      "The loss calculated:  0.5570825338363647\n",
      "Epoch # 118\n",
      "The loss calculated:  0.5570757389068604\n",
      "Epoch # 119\n",
      "The loss calculated:  0.5571866631507874\n",
      "Epoch # 120\n",
      "The loss calculated:  0.5571074485778809\n",
      "Epoch # 121\n",
      "The loss calculated:  0.5570029020309448\n",
      "Epoch # 122\n",
      "The loss calculated:  0.5571243762969971\n",
      "Epoch # 123\n",
      "The loss calculated:  0.5569117665290833\n",
      "Epoch # 124\n",
      "The loss calculated:  0.557152509689331\n",
      "Epoch # 125\n",
      "The loss calculated:  0.5570492148399353\n",
      "Epoch # 126\n",
      "The loss calculated:  0.5570451617240906\n",
      "Epoch # 127\n",
      "The loss calculated:  0.5569484829902649\n",
      "Epoch # 128\n",
      "The loss calculated:  0.5570483803749084\n",
      "Epoch # 129\n",
      "The loss calculated:  0.557044506072998\n",
      "Epoch # 130\n",
      "The loss calculated:  0.5569063425064087\n",
      "Epoch # 131\n",
      "The loss calculated:  0.5569178462028503\n",
      "Epoch # 132\n",
      "The loss calculated:  0.5569667220115662\n",
      "Epoch # 133\n",
      "The loss calculated:  0.5570693016052246\n",
      "Epoch # 134\n",
      "The loss calculated:  0.5569718480110168\n",
      "Epoch # 135\n",
      "The loss calculated:  0.5569811463356018\n",
      "Epoch # 136\n",
      "The loss calculated:  0.5567440986633301\n",
      "Epoch # 137\n",
      "The loss calculated:  0.5569304823875427\n",
      "Epoch # 138\n",
      "The loss calculated:  0.5569315552711487\n",
      "Epoch # 139\n",
      "The loss calculated:  0.5568221807479858\n",
      "Epoch # 140\n",
      "The loss calculated:  0.5568452477455139\n",
      "Epoch # 141\n",
      "The loss calculated:  0.5570674538612366\n",
      "Epoch # 142\n",
      "The loss calculated:  0.556846022605896\n",
      "Epoch # 143\n",
      "The loss calculated:  0.5568200945854187\n",
      "Epoch # 144\n",
      "The loss calculated:  0.5567485690116882\n",
      "Epoch # 145\n",
      "The loss calculated:  0.5568610429763794\n",
      "Epoch # 146\n",
      "The loss calculated:  0.5568253397941589\n",
      "Epoch # 147\n",
      "The loss calculated:  0.5570136308670044\n",
      "Epoch # 148\n",
      "The loss calculated:  0.5567933320999146\n",
      "Epoch # 149\n",
      "The loss calculated:  0.5569421648979187\n",
      "Epoch # 150\n",
      "The loss calculated:  0.556872546672821\n"
     ]
    }
   ],
   "source": [
    "# Not using dataloader\n",
    "#######x_train, y_train = Variable(torch.from_numpy(features_train)).float(), Variable(torch.from_numpy(labels_train)).long()\n",
    "for epoch in range(1, epochs+1):\n",
    "    print (\"Epoch #\",epoch)\n",
    "    y_pred = model(x_train)\n",
    "    loss = loss_fn(y_pred, y_train)\n",
    "    print_(loss.item())\n",
    "    \n",
    "    # Zero gradients\n",
    "    optimizer.zero_grad()\n",
    "    loss.backward() # Gradients\n",
    "    optimizer.step() # Update"
   ]
  },
  {
   "cell_type": "code",
   "execution_count": 22,
   "id": "980b97ec-2784-4ff8-85d9-6965c228ed7d",
   "metadata": {},
   "outputs": [
    {
     "name": "stderr",
     "output_type": "stream",
     "text": [
      "/var/folders/4v/79hzqsnj155_2r8_zvw_2cn80000gn/T/ipykernel_23268/4287727945.py:14: UserWarning: Implicit dimension choice for softmax has been deprecated. Change the call to include dim=X as an argument.\n",
      "  x = F.softmax(self.layer3(x)) # To check with the loss function\n"
     ]
    }
   ],
   "source": [
    "x_test = features_test\n",
    "\n",
    "pred = model(x_test)"
   ]
  },
  {
   "cell_type": "code",
   "execution_count": 23,
   "id": "f78962ee-28cb-4a07-93d9-17a87681d667",
   "metadata": {},
   "outputs": [],
   "source": [
    "pred = pred.detach().numpy()"
   ]
  },
  {
   "cell_type": "code",
   "execution_count": 24,
   "id": "35d7af7e-b6ed-4375-b1c8-f1a3a10d6355",
   "metadata": {},
   "outputs": [
    {
     "data": {
      "text/plain": [
       "array([[6.6141176e-01, 3.3858824e-01],\n",
       "       [7.0873684e-01, 2.9126313e-01],\n",
       "       [1.0695129e-04, 9.9989307e-01],\n",
       "       ...,\n",
       "       [5.9606403e-01, 4.0393603e-01],\n",
       "       [3.4843793e-05, 9.9996519e-01],\n",
       "       [6.8511528e-01, 3.1488475e-01]], dtype=float32)"
      ]
     },
     "execution_count": 24,
     "metadata": {},
     "output_type": "execute_result"
    }
   ],
   "source": [
    "pred"
   ]
  },
  {
   "cell_type": "code",
   "execution_count": 25,
   "id": "8ddf8270-d76a-4e7f-a5e5-f9c9477a23fc",
   "metadata": {},
   "outputs": [
    {
     "name": "stdout",
     "output_type": "stream",
     "text": [
      "The accuracy is 0.7348924177551353\n"
     ]
    }
   ],
   "source": [
    "print(\"The accuracy is\", accuracy_score(labels_test, np.argmax(pred, axis=1)))"
   ]
  },
  {
   "cell_type": "code",
   "execution_count": 26,
   "id": "b5d6a949-c5f1-4e21-a730-5122bcb6f417",
   "metadata": {},
   "outputs": [
    {
     "name": "stderr",
     "output_type": "stream",
     "text": [
      "/var/folders/4v/79hzqsnj155_2r8_zvw_2cn80000gn/T/ipykernel_23268/4287727945.py:14: UserWarning: Implicit dimension choice for softmax has been deprecated. Change the call to include dim=X as an argument.\n",
      "  x = F.softmax(self.layer3(x)) # To check with the loss function\n"
     ]
    },
    {
     "data": {
      "text/plain": [
       "0"
      ]
     },
     "execution_count": 26,
     "metadata": {},
     "output_type": "execute_result"
    }
   ],
   "source": [
    "# Checking for first value\n",
    "np.argmax(model(x_test[0]).detach().numpy(), axis=0)"
   ]
  },
  {
   "cell_type": "code",
   "execution_count": 27,
   "id": "900b8294-0a84-4454-916b-4ebee0acf222",
   "metadata": {},
   "outputs": [
    {
     "data": {
      "text/plain": [
       "tensor(0)"
      ]
     },
     "execution_count": 27,
     "metadata": {},
     "output_type": "execute_result"
    }
   ],
   "source": [
    "labels_test[0]"
   ]
  },
  {
   "cell_type": "code",
   "execution_count": 28,
   "id": "dcea7522-5432-4945-81e1-d757881a5121",
   "metadata": {},
   "outputs": [],
   "source": [
    "torch.save(model, \"iris-pytorch.pkl\")"
   ]
  },
  {
   "cell_type": "code",
   "execution_count": 29,
   "id": "da998508-d71a-45ef-9f52-93f9c987df0a",
   "metadata": {},
   "outputs": [],
   "source": [
    "saved_model = torch.load(\"iris-pytorch.pkl\")"
   ]
  },
  {
   "cell_type": "code",
   "execution_count": 30,
   "id": "e22f6cb5-f256-4e4e-9647-8c83ef778c6d",
   "metadata": {},
   "outputs": [
    {
     "name": "stderr",
     "output_type": "stream",
     "text": [
      "/var/folders/4v/79hzqsnj155_2r8_zvw_2cn80000gn/T/ipykernel_23268/4287727945.py:14: UserWarning: Implicit dimension choice for softmax has been deprecated. Change the call to include dim=X as an argument.\n",
      "  x = F.softmax(self.layer3(x)) # To check with the loss function\n"
     ]
    },
    {
     "data": {
      "text/plain": [
       "0"
      ]
     },
     "execution_count": 30,
     "metadata": {},
     "output_type": "execute_result"
    }
   ],
   "source": [
    "np.argmax(saved_model(x_test[0]).detach().numpy(), axis=0)"
   ]
  },
  {
   "cell_type": "code",
   "execution_count": 31,
   "id": "dd516bbb-983a-496f-8568-6ac54002241a",
   "metadata": {},
   "outputs": [
    {
     "data": {
      "text/plain": [
       "tensor([0.0000, 0.0000, 0.0000, 0.4664, 0.0000, 0.0000, 1.0000, 1.0000, 1.0000,\n",
       "        1.0000, 0.0000, 0.0000, 0.0000, 0.0000, 0.0000, 0.0000, 0.0000, 0.0000])"
      ]
     },
     "execution_count": 31,
     "metadata": {},
     "output_type": "execute_result"
    }
   ],
   "source": [
    "x_test[0]"
   ]
  },
  {
   "cell_type": "code",
   "execution_count": 32,
   "id": "d71d7db3-d451-462f-836f-9efbb5df5274",
   "metadata": {},
   "outputs": [
    {
     "name": "stdout",
     "output_type": "stream",
     "text": [
      "tensor([0.0000, 0.0000, 0.0000, 0.4664, 0.0000, 0.0000, 1.0000, 1.0000, 1.0000,\n",
      "        1.0000, 0.0000, 0.0000, 0.0000, 0.0000, 0.0000, 0.0000, 0.0000, 0.0000])\n",
      "prediction 0\n",
      "tensor([0.0000, 0.0000, 0.0000, 0.4721, 0.0000, 0.0000, 1.0000, 1.0000, 1.0000,\n",
      "        1.0000, 0.0000, 0.0000, 0.0000, 0.0000, 0.0000, 0.0000, 0.0000, 0.0000])\n",
      "prediction 0\n",
      "tensor([0.0000, 0.0000, 0.0000, 0.5717, 0.0000, 0.0000, 0.0000, 0.0000, 1.0000,\n",
      "        0.0000, 1.0000, 1.0000, 1.0000, 1.0000, 1.0000, 1.0000, 1.0000, 1.0000])\n",
      "prediction 1\n"
     ]
    },
    {
     "name": "stderr",
     "output_type": "stream",
     "text": [
      "/var/folders/4v/79hzqsnj155_2r8_zvw_2cn80000gn/T/ipykernel_23268/4287727945.py:14: UserWarning: Implicit dimension choice for softmax has been deprecated. Change the call to include dim=X as an argument.\n",
      "  x = F.softmax(self.layer3(x)) # To check with the loss function\n"
     ]
    }
   ],
   "source": [
    "for i in x_test[:3]:\n",
    "    print(i)\n",
    "    prediction = np.argmax(saved_model(i).detach().numpy(), axis=0)\n",
    "    print('prediction', prediction)"
   ]
  },
  {
   "cell_type": "code",
   "execution_count": 33,
   "id": "1d57a91c-1dd7-4114-b528-a710b918652a",
   "metadata": {},
   "outputs": [],
   "source": [
    "#====END OF TRAINING======="
   ]
  },
  {
   "cell_type": "code",
   "execution_count": 34,
   "id": "abf4c6b1-c19a-45b4-9d74-ffd8bbc45fbc",
   "metadata": {},
   "outputs": [],
   "source": [
    "#ticker='BP'\n",
    "#ticker='ABBV'\n",
    "#ticker='GILD'\n",
    "#ticker='NGG'\n",
    "#ticker='BPY'\n",
    "ticker='MSFT'"
   ]
  },
  {
   "cell_type": "code",
   "execution_count": 35,
   "id": "9fa28387-eae1-44c2-b834-9698eff896f2",
   "metadata": {},
   "outputs": [],
   "source": [
    "def plot_stock_prediction(df, ticker):\n",
    "    # plot  values and significant levels\n",
    "    plt.figure(figsize=(30,7))\n",
    "    plt.title('Predictive model ' + str(ticker))\n",
    "    plt.plot(df['Date'], df['Adj Close'], label='Adj Close', alpha=0.2)\n",
    "\n",
    "    plt.plot(df['Date'], df['EMA10'], label='EMA10', alpha=0.2)\n",
    "    plt.plot(df['Date'], df['EMA20'], label='EMA20', alpha=0.2)\n",
    "    plt.plot(df['Date'], df['EMA30'], label='EMA30', alpha=0.2)\n",
    "    plt.plot(df['Date'], df['EMA40'], label='EMA40', alpha=0.2)\n",
    "    plt.plot(df['Date'], df['EMA50'], label='EMA50', alpha=0.2)\n",
    "    plt.plot(df['Date'], df['EMA100'], label='EMA100', alpha=0.2)\n",
    "    plt.plot(df['Date'], df['EMA150'], label='EMA150', alpha=0.99)\n",
    "    plt.plot(df['Date'], df['EMA200'], label='EMA200', alpha=0.2)\n",
    "\n",
    "\n",
    "    plt.scatter(df['Date'], df['Buy']*df['Adj Close'], label='Buy', marker='^', color='magenta', alpha=0.15)\n",
    "    #lt.scatter(df.index, df['sell_sig'], label='Sell', marker='v')\n",
    "\n",
    "    plt.legend()\n",
    "\n",
    "    plt.show()\n",
    "\n",
    "    return None   "
   ]
  },
  {
   "cell_type": "code",
   "execution_count": 36,
   "id": "150b89bb-2d67-461c-8f1d-76e7f44abffe",
   "metadata": {},
   "outputs": [
    {
     "name": "stdout",
     "output_type": "stream",
     "text": [
      "connected to yahoo\n"
     ]
    }
   ],
   "source": [
    "new_df = get_data(ticker)"
   ]
  },
  {
   "cell_type": "code",
   "execution_count": 37,
   "id": "f10f22c1-7e8f-4242-bdbe-b55b1a9458a6",
   "metadata": {},
   "outputs": [],
   "source": [
    "new_df = compute_technical_indicators(new_df)\n",
    "new_df = compute_features(new_df)\n",
    "new_df=define_target_condition(new_df)\n",
    "saved_model = torch.load(\"iris-pytorch.pkl\")"
   ]
  },
  {
   "cell_type": "code",
   "execution_count": 38,
   "id": "e0a15f9f-ad7a-437f-bd12-04b0ad74c1cf",
   "metadata": {},
   "outputs": [],
   "source": [
    "def predict_timeseries(df):\n",
    "    \n",
    "    # making sure we have good dimensions\n",
    "    # column will be rewritten later\n",
    "    df['Buy'] = df['target_cls']\n",
    "    \n",
    "    for i in range(len(df)):\n",
    "        X_cls_valid = [[df['aboveSAR'][i],df['aboveUpperBB'][i],df['belowLowerBB'][i],\n",
    "                        df['normRSI'][i],df['oversoldRSI'][i],df['overboughtRSI'][i],\n",
    "                        df['aboveEMA5'][i],df['aboveEMA10'][i],df['aboveEMA15'][i],df['aboveEMA20'][i],\n",
    "                        df['aboveEMA30'][i],df['aboveEMA40'][i],df['aboveEMA50'][i],\n",
    "                        df['aboveEMA60'][i],df['aboveEMA70'][i],df['aboveEMA80'][i],df['aboveEMA90'][i],\n",
    "                        df['aboveEMA100'][i]]]    \n",
    "\n",
    "        x_test = Variable(torch.Tensor(X_cls_valid).float())    \n",
    "        \n",
    "        #####print('x_test',x_test)\n",
    "        \n",
    "\n",
    "        #####print('i',i)\n",
    "        prediction = np.argmax(saved_model(x_test[0]).detach().numpy(), axis=0)\n",
    "        #####print('prediction', prediction)        \n",
    "  \n",
    "    \n",
    "        df['Buy'][i] = prediction\n",
    "\n",
    "\n",
    "    print(df.head())    \n",
    "        \n",
    "    return df"
   ]
  },
  {
   "cell_type": "code",
   "execution_count": 39,
   "id": "b06719dc-f1b7-4cb9-ac2d-90b42ab3b570",
   "metadata": {},
   "outputs": [
    {
     "name": "stderr",
     "output_type": "stream",
     "text": [
      "/var/folders/4v/79hzqsnj155_2r8_zvw_2cn80000gn/T/ipykernel_23268/4287727945.py:14: UserWarning: Implicit dimension choice for softmax has been deprecated. Change the call to include dim=X as an argument.\n",
      "  x = F.softmax(self.layer3(x)) # To check with the loss function\n",
      "/var/folders/4v/79hzqsnj155_2r8_zvw_2cn80000gn/T/ipykernel_23268/972954555.py:25: SettingWithCopyWarning: \n",
      "A value is trying to be set on a copy of a slice from a DataFrame\n",
      "\n",
      "See the caveats in the documentation: https://pandas.pydata.org/pandas-docs/stable/user_guide/indexing.html#returning-a-view-versus-a-copy\n",
      "  df['Buy'][i] = prediction\n"
     ]
    },
    {
     "name": "stdout",
     "output_type": "stream",
     "text": [
      "        Date      High       Low      Open     Close        Volume  Adj Close      EMA5  EMA10  EMA15  ...  aboveEMA100  aboveEMA150  aboveEMA200  aboveUpperBB  belowLowerBB  aboveSAR  oversoldRSI  overboughtRSI  target_cls  Buy\n",
      "0 1986-03-13  0.101563  0.088542  0.088542  0.097222  1.031789e+09   0.060980  0.000000    0.0    0.0  ...            0            0            0             0             0         0            0              0           1    0\n",
      "1 1986-03-14  0.102431  0.097222  0.097222  0.100694  3.081600e+08   0.063158  0.000000    0.0    0.0  ...            0            0            0             0             0         0            0              0           1    0\n",
      "2 1986-03-17  0.103299  0.100694  0.100694  0.102431  1.331712e+08   0.064247  0.000000    0.0    0.0  ...            0            0            0             0             0         0            0              0           1    0\n",
      "3 1986-03-18  0.103299  0.098958  0.102431  0.099826  6.776640e+07   0.062613  0.000000    0.0    0.0  ...            0            0            0             0             0         0            0              0           1    0\n",
      "4 1986-03-19  0.100694  0.097222  0.099826  0.098090  4.789440e+07   0.061524  0.062504    0.0    0.0  ...            0            0            0             0             0         0            0              0           1    0\n",
      "\n",
      "[5 rows x 48 columns]\n"
     ]
    }
   ],
   "source": [
    "new_df = predict_timeseries(new_df)"
   ]
  },
  {
   "cell_type": "code",
   "execution_count": 40,
   "id": "f250bce7-4d40-4c69-9788-8b7dd89e569f",
   "metadata": {},
   "outputs": [
    {
     "data": {
      "image/png": "[encoded data removed]",
      "text/plain": [
       "<Figure size 2160x504 with 1 Axes>"
      ]
     },
     "metadata": {
      "needs_background": "light"
     },
     "output_type": "display_data"
    }
   ],
   "source": [
    "plot_stock_prediction(new_df, ticker)"
   ]
  },
  {
   "cell_type": "code",
   "execution_count": 42,
   "id": "cf7dc28c-98b5-448d-9e08-345155cd76e8",
   "metadata": {},
   "outputs": [
    {
     "data": {
      "image/png": "[encoded data removed]",
      "text/plain": [
       "<Figure size 2160x504 with 1 Axes>"
      ]
     },
     "metadata": {
      "needs_background": "light"
     },
     "output_type": "display_data"
    }
   ],
   "source": [
    "temp_df = new_df[-100:]\n",
    "plot_stock_prediction(temp_df, ticker)"
   ]
  },
  {
   "cell_type": "code",
   "execution_count": null,
   "id": "ebaf087b-c067-492e-a71a-5cbb28c8adff",
   "metadata": {},
   "outputs": [],
   "source": []
  }
 ],
 "metadata": {
  "kernelspec": {
   "display_name": "Python 3 (ipykernel)",
   "language": "python",
   "name": "python3"
  },
  "language_info": {
   "codemirror_mode": {
    "name": "ipython",
    "version": 3
   },
   "file_extension": ".py",
   "mimetype": "text/x-python",
   "name": "python",
   "nbconvert_exporter": "python",
   "pygments_lexer": "ipython3",
   "version": "3.8.13"
  }
 },
 "nbformat": 4,
 "nbformat_minor": 5
}
